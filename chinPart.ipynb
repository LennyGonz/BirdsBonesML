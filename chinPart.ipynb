{
 "cells": [
  {
   "cell_type": "markdown",
   "metadata": {},
   "source": [
    "<div class=\"alert alert-block alert-info\">\n",
    "<ul><strong>\n",
    "<li>Justin Chin | Miguel Dominguez</li>\n",
    "<li>CSC 59929</li>\n",
    "<li>Machine Learning</li>\n",
    "<li>Dr. Erik K. Grimmelmann</li>\n",
    "<li>Date: </li>\n",
    "<li>Project</li>\n",
    "</strong>\n",
    "</ul>\n",
    "</div>"
   ]
  },
  {
   "cell_type": "code",
   "execution_count": 1,
   "metadata": {
    "collapsed": true
   },
   "outputs": [],
   "source": [
    "import numpy as np\n",
    "import pandas as pd\n",
    "import math\n",
    "import matplotlib.pyplot as plt \n",
    "from matplotlib.colors import ListedColormap\n",
    "from sklearn.preprocessing import LabelEncoder"
   ]
  },
  {
   "cell_type": "code",
   "execution_count": 2,
   "metadata": {},
   "outputs": [
    {
     "data": {
      "text/html": [
       "<div>\n",
       "<style>\n",
       "    .dataframe thead tr:only-child th {\n",
       "        text-align: right;\n",
       "    }\n",
       "\n",
       "    .dataframe thead th {\n",
       "        text-align: left;\n",
       "    }\n",
       "\n",
       "    .dataframe tbody tr th {\n",
       "        vertical-align: top;\n",
       "    }\n",
       "</style>\n",
       "<table border=\"1\" class=\"dataframe\">\n",
       "  <thead>\n",
       "    <tr style=\"text-align: right;\">\n",
       "      <th></th>\n",
       "      <th>Humerus L</th>\n",
       "      <th>Humerus D</th>\n",
       "      <th>Ulna L</th>\n",
       "      <th>Ulna D</th>\n",
       "      <th>Femur L</th>\n",
       "      <th>Femur D</th>\n",
       "      <th>Tibiotarsus L</th>\n",
       "      <th>Tibiotarsus D</th>\n",
       "      <th>Tarsometatarsus L</th>\n",
       "      <th>Tarsometatarsus D</th>\n",
       "      <th>Type</th>\n",
       "    </tr>\n",
       "  </thead>\n",
       "  <tbody>\n",
       "    <tr>\n",
       "      <th>0</th>\n",
       "      <td>80.78</td>\n",
       "      <td>6.68</td>\n",
       "      <td>72.01</td>\n",
       "      <td>4.88</td>\n",
       "      <td>41.81</td>\n",
       "      <td>3.70</td>\n",
       "      <td>5.50</td>\n",
       "      <td>4.03</td>\n",
       "      <td>38.70</td>\n",
       "      <td>3.84</td>\n",
       "      <td>SW</td>\n",
       "    </tr>\n",
       "    <tr>\n",
       "      <th>1</th>\n",
       "      <td>88.91</td>\n",
       "      <td>6.63</td>\n",
       "      <td>80.53</td>\n",
       "      <td>5.59</td>\n",
       "      <td>47.04</td>\n",
       "      <td>4.30</td>\n",
       "      <td>80.22</td>\n",
       "      <td>4.51</td>\n",
       "      <td>41.50</td>\n",
       "      <td>4.01</td>\n",
       "      <td>SW</td>\n",
       "    </tr>\n",
       "    <tr>\n",
       "      <th>2</th>\n",
       "      <td>79.97</td>\n",
       "      <td>6.37</td>\n",
       "      <td>69.26</td>\n",
       "      <td>5.28</td>\n",
       "      <td>43.07</td>\n",
       "      <td>3.90</td>\n",
       "      <td>75.35</td>\n",
       "      <td>4.04</td>\n",
       "      <td>38.31</td>\n",
       "      <td>3.34</td>\n",
       "      <td>SW</td>\n",
       "    </tr>\n",
       "    <tr>\n",
       "      <th>3</th>\n",
       "      <td>77.65</td>\n",
       "      <td>5.70</td>\n",
       "      <td>65.76</td>\n",
       "      <td>4.77</td>\n",
       "      <td>40.04</td>\n",
       "      <td>3.52</td>\n",
       "      <td>69.17</td>\n",
       "      <td>3.40</td>\n",
       "      <td>35.78</td>\n",
       "      <td>3.41</td>\n",
       "      <td>SW</td>\n",
       "    </tr>\n",
       "    <tr>\n",
       "      <th>4</th>\n",
       "      <td>62.80</td>\n",
       "      <td>4.84</td>\n",
       "      <td>52.09</td>\n",
       "      <td>3.73</td>\n",
       "      <td>33.95</td>\n",
       "      <td>2.72</td>\n",
       "      <td>56.27</td>\n",
       "      <td>2.96</td>\n",
       "      <td>31.88</td>\n",
       "      <td>3.13</td>\n",
       "      <td>SW</td>\n",
       "    </tr>\n",
       "  </tbody>\n",
       "</table>\n",
       "</div>"
      ],
      "text/plain": [
       "   Humerus L  Humerus D  Ulna L  Ulna D  Femur L  Femur D  Tibiotarsus L  \\\n",
       "0      80.78       6.68   72.01    4.88    41.81     3.70           5.50   \n",
       "1      88.91       6.63   80.53    5.59    47.04     4.30          80.22   \n",
       "2      79.97       6.37   69.26    5.28    43.07     3.90          75.35   \n",
       "3      77.65       5.70   65.76    4.77    40.04     3.52          69.17   \n",
       "4      62.80       4.84   52.09    3.73    33.95     2.72          56.27   \n",
       "\n",
       "   Tibiotarsus D  Tarsometatarsus L  Tarsometatarsus D Type  \n",
       "0           4.03              38.70               3.84   SW  \n",
       "1           4.51              41.50               4.01   SW  \n",
       "2           4.04              38.31               3.34   SW  \n",
       "3           3.40              35.78               3.41   SW  \n",
       "4           2.96              31.88               3.13   SW  "
      ]
     },
     "execution_count": 2,
     "metadata": {},
     "output_type": "execute_result"
    }
   ],
   "source": [
    "#Get Bird Bone Dataframe\n",
    "birds = pd.read_csv('bird.csv', sep=',')\n",
    "new_columns = ['ID', 'Humerus L', 'Humerus D', 'Ulna L','Ulna D', 'Femur L', 'Femur D',\n",
    "              'Tibiotarsus L', 'Tibiotarsus D', 'Tarsometatarsus L','Tarsometatarsus D', 'Type'] \n",
    "birds.columns = new_columns\n",
    "\n",
    "#Drop rows with NaN values\n",
    "birds = birds.dropna()\n",
    "birds.head()\n",
    "\n",
    "# CHIN Data\n",
    "df = birds\n",
    "df.columns = new_columns\n",
    "df = df.drop(new_columns[0:1],1) # remove the ID column\n",
    "df.head()"
   ]
  },
  {
   "cell_type": "code",
   "execution_count": 30,
   "metadata": {},
   "outputs": [],
   "source": [
    "#Get data X and class Y\n",
    "X = birds.iloc[:,1:11].values\n",
    "y = birds['Type'].values\n",
    "\n",
    "#Transform Type values for birds into numerical classes ranging from 0 to 5\n",
    "enc = LabelEncoder()\n",
    "label_encoder = enc.fit(y)\n",
    "y = label_encoder.transform(y)\n",
    "#y # 3,5,4,1,0,2 === > SW, W, T, R, P, SO"
   ]
  },
  {
   "cell_type": "code",
   "execution_count": 6,
   "metadata": {
    "collapsed": true
   },
   "outputs": [],
   "source": [
    "#Build a dictionary with the feature names.\n",
    "label = [ 'Humerus L', 'Humerus D', 'Ulna L','Ulna D', 'Femur L', 'Femur D',\n",
    "              'Tibiotarsus L', 'Tibiotarsus D', 'Tarsometatarsus L','Tarsometatarsus D']\n",
    "feature_dict = {i:label for i,label in zip(range(0,11), new_columns)}\n",
    "\n",
    "#Labels for Classes\n",
    "label_dict = {3: 'SW', 5: 'W', 4: 'T', 1: 'R', 0: 'P', 2: 'SO'}"
   ]
  },
  {
   "cell_type": "markdown",
   "metadata": {},
   "source": [
    "# Functions (write documentation for functions, graphing fuct, others)"
   ]
  },
  {
   "cell_type": "code",
   "execution_count": 22,
   "metadata": {
    "collapsed": true
   },
   "outputs": [],
   "source": [
    "def plot_decision_regions(X, y, classifier,\n",
    "    test_idx=None, resolution=0.02):\n",
    "    # setup marker generator and color map\n",
    "    markers = ('^', 's', 'o','^', 's', 'o')\n",
    "    #colors = ('red', 'blue', 'lightgreen', 'gray', 'cyan')\n",
    "    colors = colors2\n",
    "    cmap = ListedColormap(colors[:len(np.unique(y))])\n",
    "    # plot the decision surface\n",
    "    x1_min, x1_max = X[:, 0].min() - 1, X[:, 0].max() + 1\n",
    "    x2_min, x2_max = X[:, 1].min() - 1, X[:, 1].max() + 1\n",
    "    xx1, xx2 = np.meshgrid(np.arange(x1_min, x1_max, resolution),\n",
    "    np.arange(x2_min, x2_max, resolution))\n",
    "    Z = classifier.predict(np.array([xx1.ravel(), xx2.ravel()]).T)\n",
    "    Z = Z.reshape(xx1.shape)\n",
    "    fig, axes = plt.subplots(nrows=1, ncols=1, figsize=(20,20))\n",
    "    plt.contourf(xx1, xx2, Z, alpha=0.4, cmap=cmap)\n",
    "    plt.xlim(xx1.min(), xx1.max())\n",
    "    plt.ylim(xx2.min(), xx2.max())\n",
    "    # plot all samples\n",
    "    X_test, y_test = X[test_idx, :], y[test_idx]\n",
    "    for idx, cl in enumerate(np.unique(y)):\n",
    "        plt.scatter(x=X[y == cl, 0], y=X[y == cl, 1],\n",
    "                    alpha=0.8, c=cmap(idx),\n",
    "                    marker=markers[idx], label=cl)\n",
    "    # highlight test samples\n",
    "    #if test_idx:\n",
    "       # X_test, y_test = X[test_idx, :], y[test_idx]\n",
    "        #plt.scatter(X_test[:, 0], X_test[:, 1], c='',\n",
    "        #alpha=1.0, linewidth=1, marker='o',\n",
    "       # s=55, label='test set')"
   ]
  },
  {
   "cell_type": "code",
   "execution_count": 23,
   "metadata": {
    "collapsed": true
   },
   "outputs": [],
   "source": [
    "def make_meshgrid(x, y, h=.01):\n",
    "    \"\"\"Create a mesh of points to plot in\n",
    "\n",
    "    Parameters\n",
    "    ----------\n",
    "    x: data to base x-axis meshgrid on\n",
    "    y: data to base y-axis meshgrid on\n",
    "    h: stepsize for meshgrid, optional\n",
    "\n",
    "    Returns\n",
    "    -------\n",
    "    xx, yy : ndarray\n",
    "    \"\"\"\n",
    "    x_min, x_max = x.min() - 1, x.max() + 1\n",
    "    y_min, y_max = y.min() - 1, y.max() + 1\n",
    "    xx, yy = np.meshgrid(np.arange(x_min, x_max, h),\n",
    "                         np.arange(y_min, y_max, h))\n",
    "    return xx, yy\n",
    "\n",
    "\n",
    "def plot_contours(ax, clf, xx, yy, **params):\n",
    "    \"\"\"Plot the decision boundaries for a classifier.\n",
    "\n",
    "    Parameters\n",
    "    ----------\n",
    "    ax: matplotlib axes object\n",
    "    clf: a classifier\n",
    "    xx: meshgrid ndarray\n",
    "    yy: meshgrid ndarray\n",
    "    params: dictionary of params to pass to contourf, optional\n",
    "    \"\"\"\n",
    "    Z = clf.predict(np.c_[xx.ravel(), yy.ravel()])\n",
    "    Z = Z.reshape(xx.shape)\n",
    "    #out = ax.contourf(xx, yy, Z, **params)\n",
    "    out = ax.contourf(xx, yy, Z, color = col, alpha=0.8)\n",
    "    return out\n",
    "\n",
    "def barchart(model_accuracy, model_title,optext):\n",
    "    \"\"\"Plot bars for accuracy for each model.\n",
    "    \n",
    "    Parameters\n",
    "    ----------\n",
    "    model_accuracy: list of float accuracy values\n",
    "    model_title: list of names for each model\n",
    "    optext: optional string that is part of plot graph\n",
    "    \"\"\"\n",
    "    width = 0.75\n",
    "    ind = np.arange(10)\n",
    "    fig, ax = plt.subplots(figsize=(20,15))\n",
    "    colors = ['#DEB887','#A1EAFB','#CFEE91','#FFFF99','#49BEB7','#F0DC82','#FF69B4','#D22D1E','#C000C5','g']\n",
    "    bars = ax.bar([0,1,2,3,4,5,6,7,8,9], model_accuracy , width, color=colors)\n",
    "\n",
    "    #Add some text for labels, title and axes ticks\n",
    "    ax.set_xlabel(\"Models\",fontsize=20)\n",
    "    ax.set_ylabel('Accuracy',fontsize=20)\n",
    "    ax.set_title('SVM Kernels Models and their Accuracy' + optext,fontsize=35)\n",
    "    ax.set_xticks(ind) #Positioning on the x axis\n",
    "    ax.set_xticklabels(range(0,10),\n",
    "                      fontsize = 20)\n",
    "    ax.legend(bars,model_title, loc= 'upper center',fontsize=25)\n",
    "\n",
    "    def autolabel(rects,fontsize=20):\n",
    "        \"\"\"\n",
    "        Attach a text label above each bar displaying its height\n",
    "        \"\"\"\n",
    "        for rect in rects:\n",
    "            height = rect.get_height()\n",
    "            ax.text(rect.get_x() + rect.get_width()/2., 1*height,height,\n",
    "                    ha='center', va='bottom',fontsize=fontsize)\n",
    "    autolabel(bars)\n",
    "    plt.ylim([0,2])\n",
    "    plt.show()"
   ]
  },
  {
   "cell_type": "markdown",
   "metadata": {},
   "source": [
    "# Statistics"
   ]
  },
  {
   "cell_type": "code",
   "execution_count": 24,
   "metadata": {
    "scrolled": false
   },
   "outputs": [
    {
     "data": {
      "image/png": "[encoded data removed]",
      "text/plain": [
       "<matplotlib.figure.Figure at 0x1cc41f2b4e0>"
      ]
     },
     "metadata": {},
     "output_type": "display_data"
    }
   ],
   "source": [
    "fig, axes = plt.subplots(nrows=5, ncols=2, figsize=(12,12))\n",
    "\n",
    "for ax,cnt in zip(axes.ravel(), range(0,11)):  \n",
    "    # set bin sizes\n",
    "    min_b = math.floor(np.min(X[:,cnt]))\n",
    "    max_b = math.ceil(np.max(X[:,cnt]))\n",
    "    bins = np.linspace(min_b, max_b, 25)\n",
    "    \n",
    "    colors1 = ('red','blue','green','#658525', '#4EEAF6', '#FFCEF3')\n",
    "    colors2 = ('#911eb4','#f58231','#ffe119','#3cb44b','#e6194b','#008080')\n",
    "    # plottling the histograms\n",
    "    for lab,col in zip(range(0,6), colors2 ):\n",
    "        ax.hist(X[y==lab, cnt],\n",
    "                   color=col,\n",
    "                   label='class %s' %label_dict[lab],\n",
    "                   bins=bins,\n",
    "                   alpha=0.5,)\n",
    "    ylims = ax.get_ylim()\n",
    "\n",
    "    # plot annotation\n",
    "    leg = ax.legend(loc='upper right', fancybox=True, fontsize=8)\n",
    "    leg.get_frame().set_alpha(0.5)\n",
    "    ax.set_ylim([0, max(ylims)+2])\n",
    "    ax.set_xlabel(feature_dict[cnt])\n",
    "    ax.set_title('Bird Bone Histogram #%s' %str(cnt))\n",
    "    \n",
    "    # hide axis ticks\n",
    "    ax.tick_params(axis=\"both\", which=\"both\", bottom=\"off\", top=\"off\",  \n",
    "            labelbottom=\"on\", left=\"off\", right=\"off\", labelleft=\"on\")\n",
    "    \n",
    "    # remove axis spines\n",
    "    ax.spines[\"top\"].set_visible(False)  \n",
    "    ax.spines[\"right\"].set_visible(False)\n",
    "    ax.spines[\"bottom\"].set_visible(False)\n",
    "    ax.spines[\"left\"].set_visible(False)    \n",
    "\n",
    "axes[0][0].set_ylabel('count')\n",
    "axes[1][0].set_ylabel('count')\n",
    "fig.tight_layout()       \n",
    "plt.show()"
   ]
  },
  {
   "cell_type": "markdown",
   "metadata": {
    "collapsed": true
   },
   "source": [
    "# Pre-processing techniques:"
   ]
  },
  {
   "cell_type": "markdown",
   "metadata": {},
   "source": [
    "# Linear Discriminant Analysis (LDA)"
   ]
  },
  {
   "cell_type": "code",
   "execution_count": 25,
   "metadata": {
    "collapsed": true
   },
   "outputs": [],
   "source": [
    "from sklearn.discriminant_analysis import LinearDiscriminantAnalysis as LDA\n",
    "\n",
    "# LDA\n",
    "sklearn_lda = LDA(n_components=2)\n",
    "Xlda = sklearn_lda.fit_transform(X, y)"
   ]
  },
  {
   "cell_type": "code",
   "execution_count": 26,
   "metadata": {
    "collapsed": true
   },
   "outputs": [],
   "source": [
    "def plot_scikit_lda(X, title):\n",
    "    \n",
    "    fig, axes = plt.subplots(nrows=1, ncols=1, figsize=(12,12))\n",
    "    \n",
    "    for label,marker,color in zip(\n",
    "        range(0,6),('^', 's', 'o','^', 's', 'o'), colors2):\n",
    "\n",
    "        plt.scatter(x=X[:,0][y == label],\n",
    "                    y=X[:,1][y == label], # flip the figure\n",
    "                    marker=marker,\n",
    "                    color=color,\n",
    "                    alpha=0.5,\n",
    "                    label=label_dict[label])\n",
    "\n",
    "    plt.xlabel('LD1')\n",
    "    plt.ylabel('LD2')\n",
    "\n",
    "    leg = plt.legend(loc='upper right', fancybox=True)\n",
    "    leg.get_frame().set_alpha(0.5)\n",
    "    plt.title(title,fontsize=20)\n",
    "\n",
    "    # hide axis ticks\n",
    "    plt.tick_params(axis=\"both\", which=\"both\", bottom=\"off\", top=\"off\",  \n",
    "            labelbottom=\"on\", left=\"off\", right=\"off\", labelleft=\"on\")\n",
    "\n",
    "    # remove axis spines\n",
    "    ax.spines[\"top\"].set_visible(False)  \n",
    "    ax.spines[\"right\"].set_visible(False)\n",
    "    ax.spines[\"bottom\"].set_visible(False)\n",
    "    ax.spines[\"left\"].set_visible(False)    \n",
    "\n",
    "    plt.grid()\n",
    "    #plt.tight_layout\n",
    "    plt.show()"
   ]
  },
  {
   "cell_type": "code",
   "execution_count": 27,
   "metadata": {},
   "outputs": [
    {
     "data": {
      "image/png": "[encoded data removed]",
      "text/plain": [
       "<matplotlib.figure.Figure at 0x1cc41e5eb38>"
      ]
     },
     "metadata": {},
     "output_type": "display_data"
    }
   ],
   "source": [
    "plot_scikit_lda(Xlda, title='Linear Discriminant Analysis for Bird Bone Dataset')"
   ]
  },
  {
   "cell_type": "markdown",
   "metadata": {},
   "source": [
    "# Logistic Regression"
   ]
  },
  {
   "cell_type": "code",
   "execution_count": 28,
   "metadata": {},
   "outputs": [
    {
     "data": {
      "text/plain": [
       "0.5447941888619855"
      ]
     },
     "execution_count": 28,
     "metadata": {},
     "output_type": "execute_result"
    }
   ],
   "source": [
    "from sklearn.linear_model import LogisticRegression\n",
    "\n",
    "Logimodel = LogisticRegression()\n",
    "Logimodel.fit(X[:,(0,1)],y)\n",
    "Logimodel.score(X[:,(0,1)],y)\n",
    "\n"
   ]
  },
  {
   "cell_type": "code",
   "execution_count": 30,
   "metadata": {},
   "outputs": [
    {
     "data": {
      "text/plain": [
       "0.89104116222760288"
      ]
     },
     "execution_count": 30,
     "metadata": {},
     "output_type": "execute_result"
    }
   ],
   "source": [
    "from sklearn.linear_model import LogisticRegression\n",
    "\n",
    "Logimodel = LogisticRegression(C=1)\n",
    "Logimodel.fit(X,y)\n",
    "Logimodel.score(X,y)"
   ]
  },
  {
   "cell_type": "markdown",
   "metadata": {},
   "source": [
    "# SVM (no kernel)"
   ]
  },
  {
   "cell_type": "code",
   "execution_count": 13,
   "metadata": {
    "collapsed": true
   },
   "outputs": [],
   "source": [
    "from sklearn import svm\n",
    "col = ['red','blue','green','#658525', '#4EEAF6', '#FFCEF3']"
   ]
  },
  {
   "cell_type": "code",
   "execution_count": 14,
   "metadata": {},
   "outputs": [
    {
     "data": {
      "text/plain": [
       "0.61743341404358354"
      ]
     },
     "execution_count": 14,
     "metadata": {},
     "output_type": "execute_result"
    }
   ],
   "source": [
    "#Create model \n",
    "SVMmodel = svm.SVC(kernel='linear')\n",
    "#SVMmodel = svm.SVC(kernel='poly', degree=2)\n",
    "#Train the model\n",
    "SVMmodel.fit(X[:,(0,1)], y)\n",
    "#Print Accuracy\n",
    "SVMmodel.score(X[:,(0,1)],y)"
   ]
  },
  {
   "cell_type": "code",
   "execution_count": 15,
   "metadata": {},
   "outputs": [
    {
     "data": {
      "text/plain": [
       "0.55932203389830504"
      ]
     },
     "execution_count": 15,
     "metadata": {},
     "output_type": "execute_result"
    }
   ],
   "source": [
    "#Create model \n",
    "SVMmodel = svm.SVC(kernel='linear')\n",
    "#Train the model\n",
    "SVMmodel.fit(X[:,0:1], y)\n",
    "#Print Accuracy\n",
    "SVMmodel.score(X[:,0:1],y)"
   ]
  },
  {
   "cell_type": "code",
   "execution_count": null,
   "metadata": {
    "collapsed": true
   },
   "outputs": [],
   "source": [
    "Adaboosting\n",
    "RandomForests\n",
    "Regression\n",
    "NN\n",
    "Naive Bayes\n",
    "Perceptron"
   ]
  },
  {
   "cell_type": "code",
   "execution_count": 25,
   "metadata": {},
   "outputs": [
    {
     "data": {
      "image/png": "[encoded data removed]",
      "text/plain": [
       "<matplotlib.figure.Figure at 0x11d9d0940>"
      ]
     },
     "metadata": {},
     "output_type": "display_data"
    }
   ],
   "source": [
    "'''Data Vizualization'''\n",
    "import os\n",
    "import pandas as pd\n",
    "import matplotlib.pyplot as plt\n",
    "from sklearn.datasets import load_iris\n",
    "import seaborn as sns\n",
    "\n",
    "dfplot = df.drop(new_columns[4:11],1) # Show first 4 pairs\n",
    "plt.close() #clear old plots\n",
    "sns.pairplot(dfplot,hue=\"Type\",size=2.5) # plot these\n",
    "plt.show() #show new plot\n"
   ]
  },
  {
   "cell_type": "code",
   "execution_count": 235,
   "metadata": {},
   "outputs": [
    {
     "name": "stdout",
     "output_type": "stream",
     "text": [
      "RandomForest\n",
      " id  criterion  size   time  score \n",
      "---- --------- ------ ------ ------\n",
      " 1.0      gini  100.0 0.1339 0.8306\n",
      " 2.0   entropy  100.0 0.1642 0.8065\n",
      " 3.0      gini  200.0 0.2579 0.8226\n",
      " 4.0   entropy  200.0 0.3334 0.8226\n",
      " 5.0      gini  300.0 0.4048 0.8306\n",
      " 6.0   entropy  300.0 0.4947 0.8306\n",
      " 7.0      gini  400.0 0.5245 0.8306\n",
      " 8.0   entropy  400.0 0.6402 0.8387\n",
      " 9.0      gini  500.0  0.652 0.8468\n",
      "10.0   entropy  500.0 0.8013 0.8468\n",
      "11.0      gini  600.0 0.8106 0.8306\n",
      "12.0   entropy  600.0 0.9884 0.8387\n",
      "13.0      gini  700.0 0.9297 0.8468\n",
      "14.0   entropy  700.0 1.1359 0.8306\n",
      "15.0      gini  800.0 1.0384 0.8468\n",
      "16.0   entropy  800.0 1.2698 0.8306\n",
      "17.0      gini  900.0 1.2033 0.8387\n",
      "18.0   entropy  900.0 1.4485 0.8387\n",
      "19.0      gini 1000.0 1.2812 0.8387\n",
      "20.0   entropy 1000.0 1.5678 0.8387\n",
      "0.8468\n"
     ]
    },
    {
     "data": {
      "text/plain": [
       "'\\nprint(\"RandomForest w/ OOB\")\\nt2.pprint(max_width=-1)\\nprint(max(scoresRFoob))\\n'"
      ]
     },
     "execution_count": 235,
     "metadata": {},
     "output_type": "execute_result"
    }
   ],
   "source": [
    "'''Time'''\n",
    "import time\n",
    "\n",
    "'''Split Data'''\n",
    "from sklearn.model_selection import train_test_split\n",
    "trainx, testx, trainy, testy = train_test_split(X,y,test_size=.3)\n",
    "\n",
    "'''Astropy Table'''\n",
    "from astropy.table import Table,Column\n",
    "t = Table(names=('id','criterion','size','time','score'))\n",
    "t2 = Table(names=('id','size','time','score'))\n",
    "\n",
    "'''Random Forests'''\n",
    "from sklearn.ensemble import RandomForestClassifier\n",
    "\n",
    "#REDO THIS WITH \n",
    "#n_estimators 10, 50, 100 200\n",
    "#criterion gini, entropy\n",
    "#max depth : 10, 15, 20\n",
    "#class weight none, balanced\n",
    "#n_estimators\n",
    "forestSize = [100,200,300,400,500,600,700,800,900,1000]\n",
    "c = ['gini','entropy']\n",
    "#hold scores\n",
    "scoresRF = np.zeros(len(forestSize))\n",
    "scoresRFoob = np.zeros(len(forestSize))\n",
    "\n",
    "\n",
    "\n",
    "for i in range(0,len(forestSize)):\n",
    "    for j in range(0, len(c)):\n",
    "        '''RandomForest'''\n",
    "        rfc = RandomForestClassifier(criterion=c[j],\n",
    "                                     n_estimators=forestSize[i],\n",
    "                                    bootstrap=True)\n",
    "        #Fit\n",
    "        startTime = time.time() #start time\n",
    "        rfc.fit(trainx,trainy)\n",
    "        endTime = time.time() #end time\n",
    "        elaspedTime = round(endTime-startTime,4)\n",
    "\n",
    "        #add to scores\n",
    "        scoresRF[i] = round(rfc.score(testx,testy),4)\n",
    "\n",
    "        #Add to row\n",
    "        t.add_row([2*i+1+j,1,forestSize[i],elaspedTime,round(rfc.score(testx,testy),4)])\n",
    "    \"\"\" '''RandomForest w OOB'''\n",
    "        rfc = RandomForestClassifier(criterion=c[j],\n",
    "                                    n_estimators=forestSize[i],\n",
    "                                    oob_score=True)\n",
    "        #Fit\n",
    "        startTime = time.time() #start time\n",
    "        rfc.fit(X,y)\n",
    "        endTime=time.time()\n",
    "        elaspedTime=round(endTime-startTime,4)\n",
    "\n",
    "        #add to scores\n",
    "        scoresRFoob[i] = round(rfc.oob_score_,4)\n",
    "\n",
    "        #Add to row\n",
    "        t2.add_row([i+1,forestSize[i],elaspedTime,round(rfc.oob_score_,4)])\n",
    "    \"\"\"\n",
    "t['criterion']=[c[0],c[1],c[0],c[1],c[0],c[1],c[0],c[1],c[0],c[1],c[0],c[1],c[0],c[1],c[0],c[1],c[0],c[1],c[0],c[1]]\n",
    "\n",
    "        \n",
    "# oob do not need independent validation set\n",
    "\n",
    "#print Table\n",
    "print(\"RandomForest\")\n",
    "t.pprint(max_width=-1)\n",
    "print(max(scoresRF))\n",
    "'''\n",
    "print(\"RandomForest w/ OOB\")\n",
    "t2.pprint(max_width=-1)\n",
    "print(max(scoresRFoob))\n",
    "'''"
   ]
  },
  {
   "cell_type": "code",
   "execution_count": 225,
   "metadata": {},
   "outputs": [
    {
     "name": "stdout",
     "output_type": "stream",
     "text": [
      "NaiveBayes\n",
      " id  time  score \n",
      "--- ------ ------\n",
      "1.0 0.0011 0.4516\n",
      "2.0 0.0007 0.4516\n",
      "[[ 3  0  4  0  0  1]\n",
      " [ 5  9  0  0  0  2]\n",
      " [ 7  0 28  0  0  1]\n",
      " [ 5  3  2  8  0 19]\n",
      " [ 5  0  1  0  0  0]\n",
      " [ 4  2  6  1  0  8]]\n",
      "             precision    recall  f1-score   support\n",
      "\n",
      "          0       0.10      0.38      0.16         8\n",
      "          1       0.64      0.56      0.60        16\n",
      "          2       0.68      0.78      0.73        36\n",
      "          3       0.89      0.22      0.35        37\n",
      "          4       0.00      0.00      0.00         6\n",
      "          5       0.26      0.38      0.31        21\n",
      "\n",
      "avg / total       0.60      0.45      0.45       124\n",
      "\n"
     ]
    },
    {
     "name": "stderr",
     "output_type": "stream",
     "text": [
      "/Users/Chin/anaconda/lib/python3.6/site-packages/sklearn/metrics/classification.py:1113: UndefinedMetricWarning: Precision and F-score are ill-defined and being set to 0.0 in labels with no predicted samples.\n",
      "  'precision', 'predicted', average, warn_for)\n"
     ]
    }
   ],
   "source": [
    "'''Naive Bayes'''\n",
    "from sklearn.naive_bayes import GaussianNB\n",
    "\n",
    "#table\n",
    "tNB = Table(names=('id','time','score'))\n",
    "\n",
    "\n",
    "for i in range(0,2):\n",
    "    #Model\n",
    "    gnb = GaussianNB()\n",
    "\n",
    "    #Fit\n",
    "    startTime = time.time() #start time\n",
    "    gnb.fit(trainx,trainy)\n",
    "    endTime = time.time() #end time\n",
    "    elaspedTime = round(endTime-startTime,4)\n",
    "\n",
    "    #Add to row\n",
    "    tNB.add_row([i+1,elaspedTime,round(gnb.score(testx,testy),4)])\n",
    "    \n",
    "print(\"NaiveBayes\")\n",
    "tNB.pprint(max_width=-1)\n",
    "\n",
    "from sklearn.preprocessing import StandardScaler\n",
    "from sklearn.metrics import classification_report,confusion_matrix\n",
    "scaler = StandardScaler()\n",
    "scaler.fit(trainx)\n",
    "trainxs = scaler.transform(trainx)\n",
    "testxs = scaler.transform(testx)\n",
    "print(confusion_matrix(testy,gnb.predict(testx)))\n",
    "print(classification_report(testy,gnb.predict(testx)))"
   ]
  },
  {
   "cell_type": "code",
   "execution_count": 110,
   "metadata": {},
   "outputs": [
    {
     "name": "stdout",
     "output_type": "stream",
     "text": [
      "GBC\n",
      " id   eta  max_depth n_estimators   time  score \n",
      "---- ----- --------- ------------ ------- ------\n",
      " 1.0 0.001       3.0        100.0  0.3889 0.6532\n",
      "1.01 0.001       3.0       1000.0  3.9851 0.6774\n",
      " 1.1 0.001       9.0        100.0  0.9432 0.6452\n",
      "1.11 0.001       9.0       1000.0 12.6275 0.7016\n",
      " 2.0  0.01       3.0        100.0  0.3838 0.6774\n",
      "2.01  0.01       3.0       1000.0  4.0169 0.7016\n",
      " 2.1  0.01       9.0        100.0  1.2843 0.7258\n",
      "2.11  0.01       9.0       1000.0  5.0727 0.6774\n",
      " 3.0   1.0       3.0        100.0  0.1997 0.6935\n",
      "3.01   1.0       3.0       1000.0  1.7355 0.6855\n",
      " 3.1   1.0       9.0        100.0  0.2142 0.6855\n",
      "3.11   1.0       9.0       1000.0  1.7437 0.6774\n"
     ]
    }
   ],
   "source": [
    "'''GradientBoostingClassifier'''\n",
    "from sklearn.ensemble import GradientBoostingClassifier\n",
    "\n",
    "#table\n",
    "tGBC = Table(names=('id','eta','max_depth','n_estimators','time','score'))\n",
    "\n",
    "lrate = [.001,.01,1]\n",
    "depth = [3,9]\n",
    "num = [100,1000]\n",
    "\n",
    "for i in range(0,len(lrate)):\n",
    "    for j in range(0,len(depth)):\n",
    "        for k in range(0,len(num)):\n",
    "            #Model\n",
    "            gbc= GradientBoostingClassifier(loss='deviance', \n",
    "                                            n_estimators=num[k],\n",
    "                                            max_depth=depth[j], \n",
    "                                            learning_rate=lrate[i])\n",
    "             #Fit\n",
    "            startTime = time.time() #start time\n",
    "            gbc.fit(trainx,trainy)\n",
    "            endTime = time.time() #end time\n",
    "            elaspedTime = round(endTime-startTime,4)\n",
    "\n",
    "            #Add to row\n",
    "            tGBC.add_row([i+1+(j/10)+(k/100),lrate[i],depth[j],num[k],elaspedTime,round(gbc.score(testx,testy),4)])\n",
    "\n",
    "print(\"GBC\")\n",
    "tGBC.pprint(max_width=-1)\n",
    "    "
   ]
  },
  {
   "cell_type": "code",
   "execution_count": 207,
   "metadata": {},
   "outputs": [
    {
     "name": "stdout",
     "output_type": "stream",
     "text": [
      "AdaBoost\n",
      " id   eta   n_estimators  time  score \n",
      "---- ------ ------------ ------ ------\n",
      " 1.0 0.0001         50.0  0.068 0.5323\n",
      "1.01 0.0001        100.0 0.1405 0.5323\n",
      "1.02 0.0001       1000.0 1.3429 0.5323\n",
      " 2.0  0.001         50.0 0.0668 0.5323\n",
      "2.01  0.001        100.0 0.1384 0.5323\n",
      "2.02  0.001       1000.0 1.3841 0.5484\n",
      " 3.0   0.01         50.0 0.0674 0.5484\n",
      "3.01   0.01        100.0 0.1393 0.5484\n",
      "3.02   0.01       1000.0 1.3264 0.2581\n"
     ]
    }
   ],
   "source": [
    "'''AdaBoost'''\n",
    "from sklearn.ensemble import AdaBoostClassifier\n",
    "#table\n",
    "tABC = Table(names=('id','eta','n_estimators','time','score'))\n",
    "\n",
    "lrate = [.0001,.001,.01,]\n",
    "num = [50,100,1000]\n",
    "\n",
    "for i in range(0,len(lrate)):\n",
    "    for k in range(0,len(num)):\n",
    "        #Model\n",
    "        abc= AdaBoostClassifier(n_estimators=num[k],\n",
    "                                learning_rate=lrate[i])\n",
    "        #Fit\n",
    "        startTime = time.time() #start time\n",
    "        abc.fit(trainx,trainy)\n",
    "        endTime = time.time() #end time\n",
    "        elaspedTime = round(endTime-startTime,4)\n",
    "\n",
    "        #Add to row\n",
    "        tABC.add_row([i+1+(j/10)+(k/100),lrate[i],num[k],elaspedTime,round(abc.score(testx,testy),4)])\n",
    "\n",
    "print(\"AdaBoost\")\n",
    "tABC.pprint(max_width=-1)"
   ]
  },
  {
   "cell_type": "code",
   "execution_count": 209,
   "metadata": {},
   "outputs": [
    {
     "name": "stdout",
     "output_type": "stream",
     "text": [
      "LR\n",
      " id Penalty   C    time  score \n",
      "--- ------- ----- ------ ------\n",
      "1.0     1.0 0.001 0.0026 0.2984\n",
      "1.1     1.0   0.1 0.0303 0.8387\n",
      "1.2     1.0   1.0 0.0674 0.8387\n",
      "1.3     1.0  10.0 0.1179 0.8226\n",
      "2.0     2.0 0.001 0.0023 0.6694\n",
      "2.1     2.0   0.1 0.0043 0.8468\n",
      "2.2     2.0   1.0 0.0057  0.871\n",
      "2.3     2.0  10.0 0.0079 0.8306\n"
     ]
    }
   ],
   "source": [
    "'''LogisticRegression'''\n",
    "from sklearn.linear_model import LogisticRegression\n",
    "\n",
    "#table\n",
    "tLR = Table(names=('id','Penalty','C','time','score'))\n",
    "\n",
    "p = ['l1','l2']\n",
    "reg = [.001,.1,1,10]\n",
    "\n",
    "for i in range(0,len(p)):\n",
    "    for k in range(0,len(reg)):\n",
    "        #Model\n",
    "        lr= LogisticRegression(penalty=p[i],C=reg[k])\n",
    "        #Fit\n",
    "        startTime = time.time() #start time\n",
    "        lr.fit(trainx,trainy)\n",
    "        endTime = time.time() #end time\n",
    "        elaspedTime = round(endTime-startTime,4)\n",
    "\n",
    "        #Add to row\n",
    "        tLR.add_row([i+1+(k/10),i+1,reg[k],elaspedTime,round(lr.score(testx,testy),4)])\n",
    "\n",
    "print(\"LR\")\n",
    "tLR.pprint(max_width=-1)"
   ]
  },
  {
   "cell_type": "code",
   "execution_count": 206,
   "metadata": {},
   "outputs": [
    {
     "name": "stdout",
     "output_type": "stream",
     "text": [
      "Perceptron\n",
      " id Penalty Alpha  time  score \n",
      "--- ------- ----- ------ ------\n",
      "1.0     1.0 0.001 0.0027  0.379\n",
      "1.1     1.0   0.1 0.0016 0.4516\n",
      "1.2     1.0   1.0 0.0016 0.3145\n",
      "1.3     1.0  10.0 0.0018 0.2903\n",
      "2.0     2.0 0.001 0.0014 0.3548\n",
      "2.1     2.0   0.1 0.0014 0.2984\n",
      "2.2     2.0   1.0 0.0016 0.2984\n",
      "2.3     2.0  10.0 0.0015 0.2984\n"
     ]
    }
   ],
   "source": [
    "'''Perceptron'''\n",
    "from sklearn.linear_model import Perceptron\n",
    "\n",
    "#table\n",
    "tlmP = Table(names=('id','Penalty','Alpha','time','score'))\n",
    "\n",
    "p = ['l1','l2']\n",
    "reg = [.001,.1,1,10]\n",
    "\n",
    "for i in range(0,len(p)):\n",
    "    for k in range(0,len(reg)):\n",
    "        #Model\n",
    "        lmP= Perceptron(penalty=p[i],alpha=reg[k])\n",
    "        #Fit\n",
    "        startTime = time.time() #start time\n",
    "        lmP.fit(trainx,trainy)\n",
    "        endTime = time.time() #end time\n",
    "        elaspedTime = round(endTime-startTime,4)\n",
    "\n",
    "        #Add to row\n",
    "        tlmP.add_row([i+1+(k/10),i+1,reg[k],elaspedTime,round(lmP.score(testx,testy),4)])\n",
    "\n",
    "print(\"Perceptron\")\n",
    "tlmP.pprint(max_width=-1)"
   ]
  },
  {
   "cell_type": "code",
   "execution_count": 205,
   "metadata": {},
   "outputs": [
    {
     "name": "stdout",
     "output_type": "stream",
     "text": [
      "RC\n",
      " id alpha normalize class_weight  time  score \n",
      "--- ----- --------- ------------ ------ ------\n",
      "0.0 0.001      True         None 0.0017 0.6694\n",
      "1.0 0.001      True     balanced 0.0024 0.7339\n",
      "2.0   0.1      True         None  0.001 0.5645\n",
      "3.0   0.1      True     balanced 0.0019 0.6774\n",
      "4.0   1.0      True         None  0.001 0.4758\n",
      "5.0   1.0      True     balanced 0.0022 0.5403\n",
      "6.0  10.0      True         None 0.0011 0.4435\n",
      "7.0  10.0      True     balanced 0.0017 0.4758\n"
     ]
    }
   ],
   "source": [
    "'''RidgeClassifier'''\n",
    "from sklearn.linear_model import RidgeClassifier\n",
    "\n",
    "#table\n",
    "tRC = Table(names=('id','alpha','normalize','class_weight','time','score'))\n",
    "\n",
    "reg = [.001,.1,1,10]\n",
    "cw = [None,'balanced']\n",
    "\n",
    "for i in range(0,len(reg)):\n",
    "    for k in range(0,len(cw)):\n",
    "        #Model\n",
    "        rc = RidgeClassifier(alpha=reg[i],\n",
    "                            normalize = True,\n",
    "                            class_weight = cw[k])\n",
    "        #Fit\n",
    "        startTime = time.time() #start time\n",
    "        rc.fit(trainx,trainy)\n",
    "        endTime = time.time() #end time\n",
    "        elaspedTime = round(endTime-startTime,4)\n",
    "\n",
    "        #Add to row\n",
    "        #tRC.add_row([i+1+(k/10),reg[i],1,1,elaspedTime,round(rc.score(testx,testy),4)])\n",
    "        tRC.add_row([2*i+k,1,1,1,1,1])\n",
    "        tRC[2*i+k]=[2*i+k,reg[i],1,1,elaspedTime,round(rc.score(testx,testy),4)]\n",
    "        tRC['normalize'] = ['True']\n",
    "        \n",
    "tRC['class_weight'] = [cw[0],cw[1],cw[0],cw[1],cw[0],cw[1],cw[0],cw[1]]\n",
    "print(\"RC\")\n",
    "tRC.pprint(max_width=-1)"
   ]
  },
  {
   "cell_type": "code",
   "execution_count": 208,
   "metadata": {},
   "outputs": [
    {
     "name": "stdout",
     "output_type": "stream",
     "text": [
      "SGD\n",
      " id Penalty Alpha   time  score \n",
      "--- ------- ------ ------ ------\n",
      "1.0     1.0 0.0001 0.0032 0.4113\n",
      "1.1     1.0    0.1 0.0014 0.2984\n",
      "1.2     1.0    1.0 0.0014 0.1774\n",
      "1.3     1.0   10.0 0.0014 0.6371\n",
      "2.0     2.0 0.0001 0.0017 0.6452\n",
      "2.1     2.0    0.1 0.0016 0.4677\n",
      "2.2     2.0    1.0 0.0016 0.2903\n",
      "2.3     2.0   10.0 0.0017  0.129\n",
      "3.0     3.0 0.0001 0.0019  0.629\n",
      "3.1     3.0    0.1 0.0018 0.6371\n",
      "3.2     3.0    1.0 0.0017 0.4194\n",
      "3.3     3.0   10.0 0.0018 0.5645\n"
     ]
    }
   ],
   "source": [
    "'''SGD Classifier'''\n",
    "from sklearn.linear_model import SGDClassifier\n",
    "\n",
    "#table\n",
    "tlmP = Table(names=('id','Penalty','Alpha','time','score'))\n",
    "\n",
    "l = ['hinge','log','modified_huber','squared_hinge','perceptron']\n",
    "p = ['l2','l1','elasticnet']\n",
    "reg = [.0001,.1,1,10]\n",
    "\n",
    "for i in range(0,len(p)):\n",
    "    for k in range(0,len(reg)):\n",
    "        #Model\n",
    "        sgd= SGDClassifier(penalty=p[i],alpha=reg[k])\n",
    "        #Fit\n",
    "        startTime = time.time() #start time\n",
    "        sgd.fit(trainx,trainy)\n",
    "        endTime = time.time() #end time\n",
    "        elaspedTime = round(endTime-startTime,4)\n",
    "\n",
    "        #Add to row\n",
    "        tlmP.add_row([i+1+(k/10),i+1,reg[k],elaspedTime,round(sgd.score(testx,testy),4)])\n",
    "\n",
    "print(\"SGD\")\n",
    "tlmP.pprint(max_width=-1)"
   ]
  },
  {
   "cell_type": "code",
   "execution_count": 248,
   "metadata": {},
   "outputs": [
    {
     "name": "stderr",
     "output_type": "stream",
     "text": [
      "/Users/Chin/anaconda/lib/python3.6/site-packages/sklearn/neural_network/multilayer_perceptron.py:563: ConvergenceWarning: Stochastic Optimizer: Maximum iterations reached and the optimization hasn't converged yet.\n",
      "  % (), ConvergenceWarning)\n"
     ]
    },
    {
     "name": "stdout",
     "output_type": "stream",
     "text": [
      "MLP\n",
      " id  activation solver alpha  eta  time  score \n",
      "---- ---------- ------ ------ --- ------ ------\n",
      " 1.0        1.0    2.0 0.0001 4.0  0.228  0.871\n",
      "1.01        1.0    2.0 0.0001 4.0 0.1906 0.8226\n",
      " 1.1        1.0    2.0  0.001 4.0 0.1906 0.8145\n",
      "1.11        1.0    2.0  0.001 4.0 0.1915 0.8145\n",
      " 1.2        1.0    2.0   0.01 4.0 0.2014 0.8468\n",
      "1.21        1.0    2.0   0.01 4.0 0.1871 0.7984\n",
      " 1.3        1.0    2.0    0.1 4.0   0.19 0.9113\n",
      "1.31        1.0    2.0    0.1 4.0 0.1917 0.8629\n",
      " 1.4        1.0    2.0    1.0 4.0 0.1945 0.9032\n",
      "1.41        1.0    2.0    1.0 4.0 0.2257  0.879\n",
      " 2.0        1.0    2.0 0.0001 4.0 0.2572 0.8387\n",
      "2.01        1.0    2.0 0.0001 4.0 0.2611 0.8226\n",
      " 2.1        1.0    2.0  0.001 4.0 0.2581 0.8306\n",
      "2.11        1.0    2.0  0.001 4.0 0.2593 0.8145\n",
      " 2.2        1.0    2.0   0.01 4.0  0.255 0.7984\n",
      "2.21        1.0    2.0   0.01 4.0 0.2493 0.8226\n",
      " 2.3        1.0    2.0    0.1 4.0 0.2419 0.8145\n",
      "2.31        1.0    2.0    0.1 4.0  0.242 0.7903\n",
      " 2.4        1.0    2.0    1.0 4.0   0.24 0.7823\n",
      "2.41        1.0    2.0    1.0 4.0 0.2407 0.7984\n",
      " 3.0        1.0    2.0 0.0001 4.0 0.2064 0.8387\n",
      "3.01        1.0    2.0 0.0001 4.0 0.2124 0.7742\n",
      " 3.1        1.0    2.0  0.001 4.0 0.2171 0.7984\n",
      "3.11        1.0    2.0  0.001 4.0 0.2105 0.8548\n",
      " 3.2        1.0    2.0   0.01 4.0 0.2075   0.75\n",
      "3.21        1.0    2.0   0.01 4.0  0.218 0.8226\n",
      " 3.3        1.0    2.0    0.1 4.0 0.2082 0.9032\n",
      "3.31        1.0    2.0    0.1 4.0 0.2179 0.8468\n",
      " 3.4        1.0    2.0    1.0 4.0 0.2268 0.9194\n",
      "3.41        1.0    2.0    1.0 4.0 0.2208 0.7823\n",
      " 4.0        1.0    2.0 0.0001 4.0 0.2777 0.8952\n",
      "4.01        1.0    2.0 0.0001 4.0   0.28 0.8871\n",
      " 4.1        1.0    2.0  0.001 4.0 0.2813  0.879\n",
      "4.11        1.0    2.0  0.001 4.0 0.2915 0.8952\n",
      " 4.2        1.0    2.0   0.01 4.0 0.2831 0.9032\n",
      "4.21        1.0    2.0   0.01 4.0 0.2835 0.8548\n",
      " 4.3        1.0    2.0    0.1 4.0 0.2847 0.8952\n",
      "4.31        1.0    2.0    0.1 4.0 0.2819 0.8871\n",
      " 4.4        1.0    2.0    1.0 4.0 0.2799  0.879\n",
      "4.41        1.0    2.0    1.0 4.0 0.2502 0.9113\n",
      " 5.0        1.0    2.0 0.0001 4.0 0.1453 0.8387\n",
      "5.01        1.0    2.0 0.0001 4.0 0.1514 0.8629\n",
      " 5.1        1.0    2.0  0.001 4.0 0.1418 0.8387\n",
      "5.11        1.0    2.0  0.001 4.0 0.1495 0.8226\n",
      " 5.2        1.0    2.0   0.01 4.0 0.1484 0.8226\n",
      "5.21        1.0    2.0   0.01 4.0 0.1519 0.9032\n",
      " 5.3        1.0    2.0    0.1 4.0 0.1511 0.8065\n",
      "5.31        1.0    2.0    0.1 4.0 0.1499 0.8387\n",
      " 5.4        1.0    2.0    1.0 4.0 0.1463 0.8387\n",
      "5.41        1.0    2.0    1.0 4.0 0.1504  0.879\n",
      " 6.0        1.0    2.0 0.0001 4.0 0.2108 0.7984\n",
      "6.01        1.0    2.0 0.0001 4.0 0.0162 0.5565\n",
      " 6.1        1.0    2.0  0.001 4.0 0.2054 0.8226\n",
      "6.11        1.0    2.0  0.001 4.0 0.0177 0.5081\n",
      " 6.2        1.0    2.0   0.01 4.0 0.0131  0.629\n",
      "6.21        1.0    2.0   0.01 4.0 0.0169 0.6129\n",
      " 6.3        1.0    2.0    0.1 4.0 0.1722 0.8226\n",
      "6.31        1.0    2.0    0.1 4.0 0.2093 0.7742\n",
      " 6.4        1.0    2.0    1.0 4.0 0.2057 0.8387\n",
      "6.41        1.0    2.0    1.0 4.0 0.2068 0.7984\n"
     ]
    }
   ],
   "source": [
    "'''MLP Classifier'''\n",
    "from sklearn.neural_network import MLPClassifier\n",
    "from sklearn.metrics import classification_report,confusion matrix\n",
    "\n",
    "#table\n",
    "tmlp = Table(names=('id','activation','solver','alpha','eta','time','score'))\n",
    "\n",
    "h = [30,30,30]\n",
    "a = ['logistic','tanh','relu']\n",
    "s = ['lbfgs','adam']\n",
    "al = [.0001,.001,.01,.1,1]\n",
    "le = ['constant','invscaling']\n",
    "\n",
    "for i in range(0,len(a)):\n",
    "    for j in range(0,len(s)):\n",
    "        for k in range(0,len(al)):\n",
    "            for l in range(0,len(le)):\n",
    "            \n",
    "                #Model\n",
    "                mlp= MLPClassifier(activation = a[i],\n",
    "                                   solver = s[j],\n",
    "                                   alpha = al[k],\n",
    "                                   learning_rate = le[l])\n",
    "                #Fit\n",
    "                startTime = time.time() #start time\n",
    "                mlp.fit(trainx,trainy)\n",
    "                endTime = time.time() #end time\n",
    "                elaspedTime = round(endTime-startTime,4)\n",
    "\n",
    "                #Add to row\n",
    "                tmlp.add_row([2*i+j+1+k/10+l/100,1,2,al[k],4,elaspedTime,round(mlp.score(testx,testy),4)])\n",
    "\n",
    "print(\"MLP\")\n",
    "tmlp.pprint(max_width=-1,max_lines=-1)"
   ]
  },
  {
   "cell_type": "code",
   "execution_count": 270,
   "metadata": {
    "collapsed": true
   },
   "outputs": [],
   "source": [
    "def draw_confusion_matrix(cm):\n",
    "    \"\"\"\n",
    "    define a function to draw confusion matrix.\n",
    "    \"\"\"\n",
    "    _, ax = plt.subplots(nrows=1, ncols=1, figsize=(6, 6))\n",
    "    sns.heatmap(\n",
    "        cm, \n",
    "        square=True, \n",
    "        xticklabels=[\"P\", \"R\", \"SO\", \"SW\", \"T\", \"W\"], \n",
    "        annot=True, \n",
    "        annot_kws={\"fontsize\": 12}, \n",
    "        yticklabels=[\"P\", \"R\", \"SO\", \"SW\", \"T\", \"W\"], \n",
    "        cbar=False, \n",
    "        cmap=sns.light_palette(\"#00304e\", as_cmap=True),\n",
    "        ax=ax\n",
    "    )\n",
    "\n",
    "    ax.set_xlabel(\"predicted ecological group\", fontsize=12)\n",
    "    ax.set_ylabel(\"real ecological group\", fontsize=12)\n",
    "    ax.set_title(\"Confusion Matrix\", fontsize=12)"
   ]
  },
  {
   "cell_type": "code",
   "execution_count": 284,
   "metadata": {},
   "outputs": [
    {
     "name": "stdout",
     "output_type": "stream",
     "text": [
      "             precision    recall  f1-score   support\n",
      "\n",
      "          0       0.75      0.25      0.38        12\n",
      "          1       0.47      0.73      0.57        11\n",
      "          2       0.86      1.00      0.93        44\n",
      "          3       0.85      0.92      0.88        36\n",
      "          4       0.83      0.71      0.77         7\n",
      "          5       0.86      0.43      0.57        14\n",
      "\n",
      "avg / total       0.81      0.80      0.78       124\n",
      "\n"
     ]
    },
    {
     "data": {
      "image/png": "[encoded data removed]",
      "text/plain": [
       "<matplotlib.figure.Figure at 0x1203ef908>"
      ]
     },
     "metadata": {},
     "output_type": "display_data"
    },
    {
     "name": "stdout",
     "output_type": "stream",
     "text": [
      "0.9355\n"
     ]
    }
   ],
   "source": [
    "'''MLP Classifier SUMMARY END'''\n",
    "from sklearn.neural_network import MLPClassifier\n",
    "from sklearn.metrics import classification_report, confusion_matrix\n",
    "\n",
    "#table\n",
    "a = ['tanh']\n",
    "s = ['lbfgs']\n",
    "al = [1]\n",
    "le = ['constant']\n",
    "\n",
    "for i in range(0,len(a)):\n",
    "    for j in range(0,len(s)):\n",
    "        for k in range(0,len(al)):\n",
    "            for l in range(0,len(le)):\n",
    "            \n",
    "                #Model\n",
    "                mlpSum= MLPClassifier(activation = a[i],\n",
    "                                   solver = s[j],\n",
    "                                   alpha = al[k],\n",
    "                                   learning_rate = le[l])\n",
    "                #Fit\n",
    "                startTime = time.time() #start time\n",
    "                mlpSum.fit(trainx,trainy)\n",
    "                endTime = time.time() #end time\n",
    "                elaspedTime = round(endTime-startTime,4)\n",
    "                \n",
    "                predictions = mlp.predict(testx)\n",
    "                \n",
    "                plt.close()\n",
    "                draw_confusion_matrix(confusion_matrix(testy,predictions))\n",
    "                print(classification_report(testy,predictions))\n",
    "                \n",
    "                plt.show()\n",
    "                print(round(mlpSum.score(testx,testy),4))\n",
    "                #Add to row\n",
    "                #tmlp.add_row([2*i+j+1+k/10+l/100,1,2,al[k],4,elaspedTime,round(mlp.score(testx,testy),4)])\n"
   ]
  },
  {
   "cell_type": "code",
   "execution_count": null,
   "metadata": {
    "collapsed": true
   },
   "outputs": [],
   "source": []
  }
 ],
 "metadata": {
  "kernelspec": {
   "display_name": "Python 3",
   "language": "python",
   "name": "python3"
  },
  "language_info": {
   "codemirror_mode": {
    "name": "ipython",
    "version": 3
   },
   "file_extension": ".py",
   "mimetype": "text/x-python",
   "name": "python",
   "nbconvert_exporter": "python",
   "pygments_lexer": "ipython3",
   "version": "3.6.1"
  }
 },
 "nbformat": 4,
 "nbformat_minor": 2
}
